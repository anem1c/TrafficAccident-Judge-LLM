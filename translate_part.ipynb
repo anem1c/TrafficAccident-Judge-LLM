{
 "cells": [
  {
   "cell_type": "code",
   "execution_count": 14,
   "metadata": {},
   "outputs": [],
   "source": [
    "from langchain_core.prompts import ChatPromptTemplate\n",
    "\n",
    "# 번역 기능을 위한 시스템 메시지 설정\n",
    "'''\n",
    "language를 stremalit에서 선택할 수 있게 만들어서 선택한 값으로 {language}자리에 입력할 수 있게 하면\n",
    "깔끔하게 언어 설정이 될 것 같아요\n",
    "(streamlit에서 선택은 영어로 표현해주시는 게 더 좋을 것 같습니다! ex. korean, english etc.)\n",
    "'''\n",
    "\n",
    "translate_template1 = ChatPromptTemplate.from_messages([\n",
    "    (\"system\", \"Translate the following sentence from {language} to korean:\"),\n",
    "    (\"user\", \"{text}\")\n",
    "])\n",
    "\n",
    "translate_template2 = ChatPromptTemplate.from_messages([\n",
    "    (\"system\", \"Translate the following sentence from Korean to {language}:\"),\n",
    "    (\"user\", \"{text}\")\n",
    "])\n",
    "\n",
    "translate_chain1 = translate_template1 | model  # 사용자 입력 -> 모델\n",
    "translate_chain2 = translate_template2 | model  # 모델 -> 출력\n",
    "\n",
    "language = input('choose your language')"
   ]
  },
  {
   "cell_type": "code",
   "execution_count": 18,
   "metadata": {},
   "outputs": [
    {
     "name": "stdout",
     "output_type": "stream",
     "text": [
      "========================\n",
      "\n",
      "답변:\n",
      "I'm sorry to hear about the accident you experienced. The accident situation you mentioned is \"an incident where a driver who exited the vehicle was struck by a following vehicle.\" In this case, since the following vehicle struck the driver who had exited, the fault of the following vehicle is recognized.\n",
      "\n",
      "Based on the provided legal principles, it can be concluded that when a following vehicle strikes a driver who has exited, the driver of the following vehicle generally bears greater fault. Additionally, considering that in similar accident cases, the fault ratio of the claimant has been recognized as 100%, it is judged that the driver of the following vehicle should bear most of the fault.\n",
      "\n",
      "Therefore, in your accident situation, the fault ratio of the following vehicle is assessed to be 100%, while the fault ratio of the exited driver is assessed to be 0%.\n",
      "\n",
      "Compared to actual case law, this judgment is similar to cases where the fault of the following vehicle was recognized in previous rulings. However, since the specific circumstances of accidents may differ, it is recommended to consult with a legal expert for a more accurate assessment of the fault ratios.\n",
      "========================\n",
      "RAG 실행을 종료합니다.\n"
     ]
    }
   ],
   "source": [
    "# 챗봇 구동\n",
    "query = ''\n",
    "while True:\n",
    "    print(\"========================\")\n",
    "    query = input(\"질문을 입력하세요 : \")\n",
    "\n",
    "    if query == 'stop':\n",
    "        print(\"RAG 실행을 종료합니다.\")\n",
    "        break\n",
    "\n",
    "    query_text = translate_chain1.invoke(\n",
    "        {\"language\": language, \"text\": query})\n",
    "    query = query_text.content if hasattr(query_text, \"content\") else query_text\n",
    "\n",
    "    # 1. Retriever로 관련 법률 검색\n",
    "    response_docs = rag_chain_debug[\"context\"].invoke({\"question\": query})\n",
    "\n",
    "    # 1-1. Retriever로 관련 상황 문서 검색\n",
    "    response_docs1 = rag_chain_debug[\"context1\"].invoke({\"question\": query})\n",
    "\n",
    "    # 1-2. 관련 문서와 관련된 과실 비율 문서 검색\n",
    "    response_docs2 = find_most_similar_doc(response_docs1[0].metadata['summary'].content)\n",
    "\n",
    "    # 2. 문서를 프롬프트로 변환\n",
    "    prompt_messages = contextual_prompt.format_messages(\n",
    "        context=response_docs[0].page_content,\n",
    "        context1=response_docs1[0].page_content,\n",
    "        context2=response_docs2.page_content,\n",
    "        question=query\n",
    "    )\n",
    "\n",
    "    # 3. LLM으로 응답 생성\n",
    "    response = rag_chain_debug[\"llm\"].invoke(prompt_messages)\n",
    "\n",
    "    response = translate_chain2.invoke(\n",
    "        {\"language\": language, \"text\": response})\n",
    "\n",
    "\n",
    "\n",
    "    print(\"\\n답변:\")\n",
    "    print(response.content)"
   ]
  }
 ],
 "metadata": {
  "kernelspec": {
   "display_name": "faiss_env",
   "language": "python",
   "name": "python3"
  },
  "language_info": {
   "codemirror_mode": {
    "name": "ipython",
    "version": 3
   },
   "file_extension": ".py",
   "mimetype": "text/x-python",
   "name": "python",
   "nbconvert_exporter": "python",
   "pygments_lexer": "ipython3",
   "version": "3.9.20"
  }
 },
 "nbformat": 4,
 "nbformat_minor": 2
}
